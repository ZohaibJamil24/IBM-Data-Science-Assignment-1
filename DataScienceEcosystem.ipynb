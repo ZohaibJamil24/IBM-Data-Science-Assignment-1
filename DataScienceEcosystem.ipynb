{
 "cells": [
  {
   "cell_type": "markdown",
   "id": "e19cf606-c2cc-4b39-9b24-22f858787d54",
   "metadata": {},
   "source": [
    "# Data Science Tools and Ecosystem"
   ]
  },
  {
   "cell_type": "markdown",
   "id": "68f2edc0-3b98-4a4b-8125-3c0f23a23324",
   "metadata": {},
   "source": [
    "## In this notebook, Data Science Tools and Ecosystem are summarized.\n",
    "\n"
   ]
  },
  {
   "cell_type": "markdown",
   "id": "b5ddb868-0e65-4efa-a79b-67de3596c9ca",
   "metadata": {},
   "source": [
    "## Objectives:\n",
    " - List popular languages for Data Science\n",
    " - List commonly used libraries\n",
    " - Evaluating arithmetic expressions"
   ]
  },
  {
   "cell_type": "markdown",
   "id": "56c3637a-c87f-4101-8b9e-e3422caec1c0",
   "metadata": {},
   "source": [
    "### Some of the popular languages that Data Scientists use are:\n",
    "1) Python\n",
    "2) Scala\n",
    "3) R"
   ]
  },
  {
   "cell_type": "markdown",
   "id": "1eabdf7c-6a46-47c2-87de-e32d9324bffe",
   "metadata": {},
   "source": [
    "### Some of the commonly used libraries used by Data Scientists include:\n",
    "1) Pandas\n",
    "2) Numpy\n",
    "3) Scikit"
   ]
  },
  {
   "cell_type": "markdown",
   "id": "2c9dba25-e4f7-46f5-aa4d-53d4a5ed4fbf",
   "metadata": {},
   "source": [
    "| Data Science Tools |\n",
    "|--------------------|\n",
    "| Jupyter Notebook   |\n",
    "| RStudio            |\n",
    "| Apache Zeppelin    |\n"
   ]
  },
  {
   "cell_type": "markdown",
   "id": "5651b96b-b7bf-4af2-82fd-23946efaed40",
   "metadata": {},
   "source": [
    "### Below are a few examples of evaluating arithmetic expressions in Python.\n",
    "\n"
   ]
  },
  {
   "cell_type": "code",
   "execution_count": 11,
   "id": "2afe701d-ad57-4907-a5c4-a08287db7594",
   "metadata": {},
   "outputs": [
    {
     "data": {
      "text/plain": [
       "17"
      ]
     },
     "execution_count": 11,
     "metadata": {},
     "output_type": "execute_result"
    }
   ],
   "source": [
    "# This a simple arithmetic expression to mutiply then add integers\n",
    "3*4+5"
   ]
  },
  {
   "cell_type": "code",
   "execution_count": 21,
   "id": "ee4f820d-a65a-4baf-8423-1587013bed1a",
   "metadata": {},
   "outputs": [
    {
     "data": {
      "text/plain": [
       "3.3333333333333335"
      ]
     },
     "execution_count": 21,
     "metadata": {},
     "output_type": "execute_result"
    }
   ],
   "source": [
    "# This will convert 200 minutes to hours by diving by 60\n",
    "hours = 200/60\n",
    "hours"
   ]
  },
  {
   "cell_type": "markdown",
   "id": "c4d1b651-d649-4b7b-bb5d-9298998a03b4",
   "metadata": {},
   "source": [
    "## Author\n",
    "Muhammad Zohaib Bin Jamil"
   ]
  },
  {
   "cell_type": "code",
   "execution_count": null,
   "id": "47e10ef1-e0f7-4d90-ab24-9ed84fd9cef9",
   "metadata": {},
   "outputs": [],
   "source": []
  }
 ],
 "metadata": {
  "kernelspec": {
   "display_name": "Python 3 (ipykernel)",
   "language": "python",
   "name": "python3"
  },
  "language_info": {
   "codemirror_mode": {
    "name": "ipython",
    "version": 3
   },
   "file_extension": ".py",
   "mimetype": "text/x-python",
   "name": "python",
   "nbconvert_exporter": "python",
   "pygments_lexer": "ipython3",
   "version": "3.12.2"
  }
 },
 "nbformat": 4,
 "nbformat_minor": 5
}
